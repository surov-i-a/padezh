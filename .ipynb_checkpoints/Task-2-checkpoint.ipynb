{
 "cells": [
  {
   "cell_type": "code",
   "execution_count": 6,
   "id": "c1be0c29",
   "metadata": {},
   "outputs": [
    {
     "data": {
      "text/html": [
       "<style>.container { width:85% !important; }</style>"
      ],
      "text/plain": [
       "<IPython.core.display.HTML object>"
      ]
     },
     "metadata": {},
     "output_type": "display_data"
    }
   ],
   "source": [
    "from IPython.display import display, HTML\n",
    "display(HTML(\"<style>.container { width:85% !important; }</style>\"))"
   ]
  },
  {
   "cell_type": "code",
   "execution_count": 7,
   "id": "95e0a7e2",
   "metadata": {},
   "outputs": [],
   "source": [
    "import numpy as np\n",
    "import pandas as pd\n",
    "\n",
    "from numpy import dot, array, zeros, linspace, mod, sqrt, mean, std, exp, sin, cos, pi, imag, real, angle, mod\n",
    "from numpy.linalg import norm\n",
    "\n",
    "from sklearn.neighbors import KNeighborsClassifier\n",
    "from sklearn.model_selection import train_test_split\n",
    "from sklearn.metrics import classification_report, confusion_matrix"
   ]
  },
  {
   "cell_type": "code",
   "execution_count": 8,
   "id": "5837065f",
   "metadata": {},
   "outputs": [],
   "source": [
    "import matplotlib.pyplot as plt\n",
    "import matplotlib as mpl\n",
    "font = {'size'   : 12}\n",
    "mpl.rc('font', **font)"
   ]
  },
  {
   "cell_type": "code",
   "execution_count": 9,
   "id": "cab78cd7",
   "metadata": {},
   "outputs": [],
   "source": [
    "from navec import Navec\n",
    "path = 'navec_hudlit_v1_12B_500K_300d_100q.tar'\n",
    "#path = '/home/surov/Library/navec_news_v1_1B_250K_300d_100q.tar'\n",
    "model = Navec.load(path)"
   ]
  },
  {
   "cell_type": "code",
   "execution_count": null,
   "id": "e2dc85ab",
   "metadata": {},
   "outputs": [],
   "source": []
  },
  {
   "cell_type": "code",
   "execution_count": 10,
   "id": "5f52e948",
   "metadata": {},
   "outputs": [
    {
     "data": {
      "text/html": [
       "<div>\n",
       "<style scoped>\n",
       "    .dataframe tbody tr th:only-of-type {\n",
       "        vertical-align: middle;\n",
       "    }\n",
       "\n",
       "    .dataframe tbody tr th {\n",
       "        vertical-align: top;\n",
       "    }\n",
       "\n",
       "    .dataframe thead th {\n",
       "        text-align: right;\n",
       "    }\n",
       "</style>\n",
       "<table border=\"1\" class=\"dataframe\">\n",
       "  <thead>\n",
       "    <tr style=\"text-align: right;\">\n",
       "      <th></th>\n",
       "      <th>род</th>\n",
       "      <th>пред</th>\n",
       "      <th>вин</th>\n",
       "      <th>им</th>\n",
       "      <th>дат</th>\n",
       "      <th>твор</th>\n",
       "    </tr>\n",
       "  </thead>\n",
       "  <tbody>\n",
       "    <tr>\n",
       "      <th>0</th>\n",
       "      <td>абзаца</td>\n",
       "      <td>абзаце</td>\n",
       "      <td>абзац</td>\n",
       "      <td>абзац</td>\n",
       "      <td>абзацу</td>\n",
       "      <td>абзацем</td>\n",
       "    </tr>\n",
       "    <tr>\n",
       "      <th>1</th>\n",
       "      <td>аборта</td>\n",
       "      <td>аборте</td>\n",
       "      <td>аборт</td>\n",
       "      <td>аборт</td>\n",
       "      <td>аборту</td>\n",
       "      <td>абортом</td>\n",
       "    </tr>\n",
       "    <tr>\n",
       "      <th>2</th>\n",
       "      <td>абсурда</td>\n",
       "      <td>абсурде</td>\n",
       "      <td>абсурд</td>\n",
       "      <td>абсурд</td>\n",
       "      <td>абсурду</td>\n",
       "      <td>абсурдом</td>\n",
       "    </tr>\n",
       "    <tr>\n",
       "      <th>3</th>\n",
       "      <td>авангарда</td>\n",
       "      <td>авангарде</td>\n",
       "      <td>авангард</td>\n",
       "      <td>авангард</td>\n",
       "      <td>авангарду</td>\n",
       "      <td>авангардом</td>\n",
       "    </tr>\n",
       "    <tr>\n",
       "      <th>4</th>\n",
       "      <td>аварии</td>\n",
       "      <td>аварии</td>\n",
       "      <td>аварию</td>\n",
       "      <td>авария</td>\n",
       "      <td>аварии</td>\n",
       "      <td>аварией</td>\n",
       "    </tr>\n",
       "    <tr>\n",
       "      <th>...</th>\n",
       "      <td>...</td>\n",
       "      <td>...</td>\n",
       "      <td>...</td>\n",
       "      <td>...</td>\n",
       "      <td>...</td>\n",
       "      <td>...</td>\n",
       "    </tr>\n",
       "    <tr>\n",
       "      <th>2886</th>\n",
       "      <td>японца</td>\n",
       "      <td>японце</td>\n",
       "      <td>японца</td>\n",
       "      <td>японец</td>\n",
       "      <td>японцу</td>\n",
       "      <td>японцем</td>\n",
       "    </tr>\n",
       "    <tr>\n",
       "      <th>2887</th>\n",
       "      <td>яркости</td>\n",
       "      <td>яркости</td>\n",
       "      <td>яркость</td>\n",
       "      <td>яркость</td>\n",
       "      <td>яркости</td>\n",
       "      <td>яркостью</td>\n",
       "    </tr>\n",
       "    <tr>\n",
       "      <th>2888</th>\n",
       "      <td>ярости</td>\n",
       "      <td>ярости</td>\n",
       "      <td>ярость</td>\n",
       "      <td>ярость</td>\n",
       "      <td>ярости</td>\n",
       "      <td>яростью</td>\n",
       "    </tr>\n",
       "    <tr>\n",
       "      <th>2889</th>\n",
       "      <td>ясности</td>\n",
       "      <td>ясности</td>\n",
       "      <td>ясность</td>\n",
       "      <td>ясность</td>\n",
       "      <td>ясности</td>\n",
       "      <td>ясностью</td>\n",
       "    </tr>\n",
       "    <tr>\n",
       "      <th>2890</th>\n",
       "      <td>ящика</td>\n",
       "      <td>ящике</td>\n",
       "      <td>ящик</td>\n",
       "      <td>ящик</td>\n",
       "      <td>ящику</td>\n",
       "      <td>ящиком</td>\n",
       "    </tr>\n",
       "  </tbody>\n",
       "</table>\n",
       "<p>2891 rows × 6 columns</p>\n",
       "</div>"
      ],
      "text/plain": [
       "            род       пред       вин        им        дат        твор\n",
       "0        абзаца     абзаце     абзац     абзац     абзацу     абзацем\n",
       "1        аборта     аборте     аборт     аборт     аборту     абортом\n",
       "2       абсурда    абсурде    абсурд    абсурд    абсурду    абсурдом\n",
       "3     авангарда  авангарде  авангард  авангард  авангарду  авангардом\n",
       "4        аварии     аварии    аварию    авария     аварии     аварией\n",
       "...         ...        ...       ...       ...        ...         ...\n",
       "2886     японца     японце    японца    японец     японцу     японцем\n",
       "2887    яркости    яркости   яркость   яркость    яркости    яркостью\n",
       "2888     ярости     ярости    ярость    ярость     ярости     яростью\n",
       "2889    ясности    ясности   ясность   ясность    ясности    ясностью\n",
       "2890      ящика      ящике      ящик      ящик      ящику      ящиком\n",
       "\n",
       "[2891 rows x 6 columns]"
      ]
     },
     "execution_count": 10,
     "metadata": {},
     "output_type": "execute_result"
    }
   ],
   "source": [
    "# Данные подготовлены в файле Data prep & EDA\n",
    "dt = pd.read_csv('data_6x2891.csv', index_col=0)\n",
    "dt"
   ]
  },
  {
   "cell_type": "code",
   "execution_count": null,
   "id": "e4295204",
   "metadata": {},
   "outputs": [],
   "source": []
  },
  {
   "cell_type": "code",
   "execution_count": 11,
   "id": "ce82dd13",
   "metadata": {},
   "outputs": [
    {
     "data": {
      "text/plain": [
       "((17346, 300), (17346,))"
      ]
     },
     "execution_count": 11,
     "metadata": {},
     "output_type": "execute_result"
    }
   ],
   "source": [
    "# Форматирую данные для функций sklearn. N = число использованных строк датафрейма\n",
    "# LabelEncoding. Целевая величина y=0 для родительного, 1 для предложного, 2 для винительного и т.д.\n",
    "N = 1000;\n",
    "N = len(dt)\n",
    "x, y = [], []\n",
    "for n in range(N):\n",
    "    for k in range(6):\n",
    "        x.append(model[dt.iloc[n][k]])\n",
    "        y.append(k)\n",
    "\n",
    "x = np.array(x)\n",
    "y = np.array(y)\n",
    "\n",
    "x.shape, y.shape"
   ]
  },
  {
   "cell_type": "code",
   "execution_count": 12,
   "id": "38b01baf",
   "metadata": {},
   "outputs": [
    {
     "data": {
      "text/plain": [
       "array([1, 2, 1, ..., 1, 0, 4])"
      ]
     },
     "execution_count": 12,
     "metadata": {},
     "output_type": "execute_result"
    }
   ],
   "source": [
    "x_train, x_test, y_train, y_test = train_test_split(x, y, random_state=2024, test_size=0.25)\n",
    "y_train"
   ]
  },
  {
   "cell_type": "markdown",
   "id": "ad6394e0",
   "metadata": {},
   "source": [
    "# Выбор и обоснование метрики"
   ]
  },
  {
   "cell_type": "code",
   "execution_count": 13,
   "id": "ecacc340",
   "metadata": {},
   "outputs": [],
   "source": [
    "from sklearn.metrics import accuracy_score, precision_score, recall_score\n",
    "from sklearn.metrics import classification_report, confusion_matrix\n",
    "\n",
    "# Основное что было в лекции для задачи классификации. \n",
    "# Accuracy, precision и recall для справки, основная видимо будет f-мера"
   ]
  },
  {
   "cell_type": "code",
   "execution_count": null,
   "id": "5c581498",
   "metadata": {},
   "outputs": [],
   "source": []
  },
  {
   "cell_type": "markdown",
   "id": "fc677897",
   "metadata": {},
   "source": [
    "# EDA"
   ]
  },
  {
   "cell_type": "code",
   "execution_count": null,
   "id": "587a7924",
   "metadata": {},
   "outputs": [],
   "source": [
    "# В файле Data prep & EDA"
   ]
  },
  {
   "cell_type": "code",
   "execution_count": null,
   "id": "d8513fbc",
   "metadata": {},
   "outputs": [],
   "source": []
  },
  {
   "cell_type": "markdown",
   "id": "0429c551",
   "metadata": {},
   "source": [
    "# Построение бейзлайна"
   ]
  },
  {
   "cell_type": "code",
   "execution_count": 41,
   "id": "e3dbe482",
   "metadata": {},
   "outputs": [],
   "source": [
    "from sklearn.linear_model import LogisticRegression"
   ]
  },
  {
   "cell_type": "code",
   "execution_count": 90,
   "id": "2538bf9e",
   "metadata": {},
   "outputs": [],
   "source": [
    "logr = LogisticRegression(solver='liblinear', penalty='l2')\n",
    "logr.fit(x_train, y_train);"
   ]
  },
  {
   "cell_type": "code",
   "execution_count": 87,
   "id": "50475cb7",
   "metadata": {},
   "outputs": [
    {
     "data": {
      "text/plain": [
       "array([1, 0, 3, ..., 5, 2, 4])"
      ]
     },
     "execution_count": 87,
     "metadata": {},
     "output_type": "execute_result"
    }
   ],
   "source": [
    "y_pred_logr = logr.predict(x_test)\n",
    "y_pred_logr"
   ]
  },
  {
   "cell_type": "code",
   "execution_count": 88,
   "id": "c8a0d9e5",
   "metadata": {},
   "outputs": [
    {
     "name": "stdout",
     "output_type": "stream",
     "text": [
      "Average 0.721\n",
      "Precision 0.726\n",
      "Recall  0.724\n"
     ]
    }
   ],
   "source": [
    "a = accuracy_score(y_test, y_pred_logr)\n",
    "p = precision_score(y_test, y_pred_logr, average='macro')\n",
    "r = recall_score(y_test, y_pred_logr, average='macro')\n",
    "print('Average', np.around(a,3))\n",
    "print('Precision', np.around(p,3))\n",
    "print('Recall ', np.around(r,3))"
   ]
  },
  {
   "cell_type": "code",
   "execution_count": 82,
   "id": "c7abc82b",
   "metadata": {},
   "outputs": [
    {
     "name": "stdout",
     "output_type": "stream",
     "text": [
      "              precision    recall  f1-score   support\n",
      "\n",
      "           0       0.70      0.80      0.75       705\n",
      "           1       0.85      0.80      0.82       725\n",
      "           2       0.46      0.44      0.45       736\n",
      "           3       0.54      0.54      0.54       740\n",
      "           4       0.84      0.82      0.83       732\n",
      "           5       0.99      0.99      0.99       699\n",
      "\n",
      "    accuracy                           0.73      4337\n",
      "   macro avg       0.73      0.73      0.73      4337\n",
      "weighted avg       0.73      0.73      0.73      4337\n",
      "\n"
     ]
    }
   ],
   "source": [
    "print(classification_report(y_test, y_pred_logr))"
   ]
  },
  {
   "cell_type": "code",
   "execution_count": 73,
   "id": "a54916a2",
   "metadata": {},
   "outputs": [],
   "source": [
    "# Матрица ошибок\n",
    "conmat = confusion_matrix(y_test, y_pred_lr)"
   ]
  },
  {
   "cell_type": "code",
   "execution_count": 67,
   "id": "5475439c",
   "metadata": {},
   "outputs": [
    {
     "data": {
      "image/png": "[encoded data removed]",
      "text/plain": [
       "<Figure size 360x360 with 1 Axes>"
      ]
     },
     "metadata": {
      "needs_background": "light"
     },
     "output_type": "display_data"
    }
   ],
   "source": [
    "fig,ax = plt.subplots(1,1,figsize=(5,5))\n",
    "ax.imshow(conmat, cmap='Reds', vmin=0);\n",
    "ax.set_ylabel('Истина')\n",
    "ax.set_xlabel('Модель');"
   ]
  },
  {
   "cell_type": "markdown",
   "id": "0916bc5b",
   "metadata": {},
   "source": [
    "## <font color='red'>Замечание</font>\n",
    "Solver='liblinear' даёт все метрики до ~0.01 выше чем остальные. Матрица ошибок на вид не меняется"
   ]
  },
  {
   "cell_type": "markdown",
   "id": "8e31c7a8",
   "metadata": {},
   "source": [
    "# Масштабирование"
   ]
  },
  {
   "cell_type": "code",
   "execution_count": 92,
   "id": "c9ffc37b",
   "metadata": {},
   "outputs": [
    {
     "data": {
      "image/png": "[encoded data removed]",
      "text/plain": [
       "<Figure size 432x216 with 1 Axes>"
      ]
     },
     "metadata": {
      "needs_background": "light"
     },
     "output_type": "display_data"
    }
   ],
   "source": [
    "fig,ax = plt.subplots(1,1,figsize=(6,3))\n",
    "ax.hist(x.var(axis=0), bins=50, rwidth=0.8, range=[0,0.5]);"
   ]
  },
  {
   "cell_type": "code",
   "execution_count": 93,
   "id": "a69629ad",
   "metadata": {},
   "outputs": [],
   "source": [
    "from sklearn.preprocessing import StandardScaler\n",
    "scaler = StandardScaler()"
   ]
  },
  {
   "cell_type": "code",
   "execution_count": 94,
   "id": "11a29329",
   "metadata": {},
   "outputs": [],
   "source": [
    "scaler.fit(x_train)\n",
    "x_train_scaled = scaler.transform(x_train)\n",
    "x_test_scaled = scaler.transform(x_test)"
   ]
  },
  {
   "cell_type": "code",
   "execution_count": 95,
   "id": "a0d4854b",
   "metadata": {},
   "outputs": [
    {
     "data": {
      "image/png": "[encoded data removed]",
      "text/plain": [
       "<Figure size 432x216 with 1 Axes>"
      ]
     },
     "execution_count": 95,
     "metadata": {},
     "output_type": "execute_result"
    }
   ],
   "source": [
    "ax.hist(x_train_scaled.var(axis=0), bins=50, rwidth=0.8, range=[0,1.2]);\n",
    "fig"
   ]
  },
  {
   "cell_type": "code",
   "execution_count": 96,
   "id": "1528586b",
   "metadata": {},
   "outputs": [
    {
     "name": "stdout",
     "output_type": "stream",
     "text": [
      "              precision    recall  f1-score   support\n",
      "\n",
      "           0       0.70      0.80      0.74       705\n",
      "           1       0.84      0.80      0.82       725\n",
      "           2       0.46      0.43      0.45       736\n",
      "           3       0.54      0.53      0.54       740\n",
      "           4       0.83      0.82      0.83       732\n",
      "           5       0.99      0.99      0.99       699\n",
      "\n",
      "    accuracy                           0.73      4337\n",
      "   macro avg       0.73      0.73      0.73      4337\n",
      "weighted avg       0.72      0.73      0.72      4337\n",
      "\n"
     ]
    }
   ],
   "source": [
    "logr = LogisticRegression(solver='liblinear', penalty='l2')\n",
    "logr.fit(x_train_scaled, y_train);"
   ]
  },
  {
   "cell_type": "code",
   "execution_count": 97,
   "id": "7a3554f2",
   "metadata": {},
   "outputs": [
    {
     "name": "stdout",
     "output_type": "stream",
     "text": [
      "              precision    recall  f1-score   support\n",
      "\n",
      "           0       0.70      0.80      0.74       705\n",
      "           1       0.84      0.80      0.82       725\n",
      "           2       0.46      0.43      0.45       736\n",
      "           3       0.54      0.53      0.54       740\n",
      "           4       0.83      0.82      0.83       732\n",
      "           5       0.99      0.99      0.99       699\n",
      "\n",
      "    accuracy                           0.73      4337\n",
      "   macro avg       0.73      0.73      0.73      4337\n",
      "weighted avg       0.72      0.73      0.72      4337\n",
      "\n"
     ]
    }
   ],
   "source": [
    "y_pred_logr_scaled = logr.predict(x_test_scaled)\n",
    "print(classification_report(y_test, y_pred_logr_scaled))"
   ]
  },
  {
   "cell_type": "markdown",
   "id": "533e5344",
   "metadata": {},
   "source": [
    "## <font color='red'>Вывод</font>\n",
    "Масштабирование выигрыша не даёт. Кроме того, оно искажает пространство word2vec что скорее всего нежелательно"
   ]
  }
 ],
 "metadata": {
  "kernelspec": {
   "display_name": "Python 3",
   "language": "python",
   "name": "python3"
  },
  "language_info": {
   "codemirror_mode": {
    "name": "ipython",
    "version": 3
   },
   "file_extension": ".py",
   "mimetype": "text/x-python",
   "name": "python",
   "nbconvert_exporter": "python",
   "pygments_lexer": "ipython3",
   "version": "3.8.8"
  }
 },
 "nbformat": 4,
 "nbformat_minor": 5
}
